{
 "cells": [
  {
   "cell_type": "code",
   "execution_count": 1,
   "id": "vocational-spine",
   "metadata": {
    "ExecuteTime": {
     "end_time": "2021-04-28T08:32:44.869951Z",
     "start_time": "2021-04-28T08:32:42.287972Z"
    }
   },
   "outputs": [],
   "source": [
    "import pandas as pd\n",
    "import numpy as np\n",
    "import cv2\n",
    "import os\n",
    "import torch\n",
    "import json"
   ]
  },
  {
   "cell_type": "code",
   "execution_count": 2,
   "id": "located-drunk",
   "metadata": {
    "ExecuteTime": {
     "end_time": "2021-04-28T08:32:48.198873Z",
     "start_time": "2021-04-28T08:32:48.184136Z"
    }
   },
   "outputs": [
    {
     "data": {
      "text/plain": [
       "['test_images',\n",
       " 'sample_submit.json',\n",
       " 'train_annotations',\n",
       " '.DS_Store',\n",
       " 'evaluation_code',\n",
       " 'readme.md',\n",
       " 'train_images']"
      ]
     },
     "execution_count": 2,
     "metadata": {},
     "output_type": "execute_result"
    }
   ],
   "source": [
    "os.listdir(\"../input/floor_plan\")"
   ]
  },
  {
   "cell_type": "code",
   "execution_count": 20,
   "id": "comparable-moderator",
   "metadata": {
    "ExecuteTime": {
     "end_time": "2021-04-28T08:55:18.919341Z",
     "start_time": "2021-04-28T08:55:18.894940Z"
    },
    "scrolled": false
   },
   "outputs": [
    {
     "name": "stdout",
     "output_type": "stream",
     "text": [
      "LDK\n",
      "[[473.8089172   81.43949045]\n",
      " [278.9044586   80.80254777]\n",
      " [280.81528662 278.89171975]\n",
      " [183.36305732 278.25477707]\n",
      " [181.4522293  323.47770701]\n",
      " [278.26751592 327.29936306]\n",
      " [278.9044586  520.29299363]\n",
      " [475.08280255 519.01910828]]\n",
      "[473.8089172  278.9044586  280.81528662 183.36305732 181.4522293\n",
      " 278.26751592 278.9044586  475.08280255] [ 81.43949045  80.80254777 278.89171975 278.25477707 323.47770701\n",
      " 327.29936306 520.29299363 519.01910828]\n",
      "浴室\n",
      "[[ 33.68152866  83.35031847]\n",
      " [133.04458599  83.35031847]\n",
      " [133.68152866 180.80254777]\n",
      " [ 36.86624204 182.07643312]]\n",
      "[ 33.68152866 133.04458599 133.68152866  36.86624204] [ 83.35031847  83.35031847 180.80254777 182.07643312]\n",
      "廊下\n",
      "[[ 60.43312102 230.48407643]\n",
      " [ 62.98089172 278.25477707]\n",
      " [133.04458599 302.45859873]\n",
      " [131.77070064 326.02547771]\n",
      " [183.36305732 327.29936306]\n",
      " [184.63694268 180.80254777]\n",
      " [134.95541401 179.52866242]\n",
      " [134.31847134 228.57324841]]\n",
      "[ 60.43312102  62.98089172 133.04458599 131.77070064 183.36305732\n",
      " 184.63694268 134.95541401 134.31847134] [230.48407643 278.25477707 302.45859873 326.02547771 327.29936306\n",
      " 180.80254777 179.52866242 228.57324841]\n",
      "開戸\n",
      "[ 51.51592357 358.50955414 112.02547771 426.66242038]\n"
     ]
    },
    {
     "ename": "IndexError",
     "evalue": "too many indices for array: array is 1-dimensional, but 2 were indexed",
     "output_type": "error",
     "traceback": [
      "\u001b[0;31m---------------------------------------------------------------------------\u001b[0m",
      "\u001b[0;31mIndexError\u001b[0m                                Traceback (most recent call last)",
      "\u001b[0;32m<ipython-input-20-580094c634ab>\u001b[0m in \u001b[0;36m<module>\u001b[0;34m\u001b[0m\n\u001b[1;32m      7\u001b[0m         \u001b[0mpts\u001b[0m \u001b[0;34m=\u001b[0m \u001b[0mnp\u001b[0m\u001b[0;34m.\u001b[0m\u001b[0marray\u001b[0m\u001b[0;34m(\u001b[0m\u001b[0mitem\u001b[0m\u001b[0;34m)\u001b[0m\u001b[0;34m\u001b[0m\u001b[0;34m\u001b[0m\u001b[0m\n\u001b[1;32m      8\u001b[0m         \u001b[0mprint\u001b[0m\u001b[0;34m(\u001b[0m\u001b[0mpts\u001b[0m\u001b[0;34m)\u001b[0m\u001b[0;34m\u001b[0m\u001b[0;34m\u001b[0m\u001b[0m\n\u001b[0;32m----> 9\u001b[0;31m         \u001b[0mprint\u001b[0m\u001b[0;34m(\u001b[0m\u001b[0mpts\u001b[0m\u001b[0;34m[\u001b[0m\u001b[0;34m:\u001b[0m\u001b[0;34m,\u001b[0m\u001b[0;36m0\u001b[0m\u001b[0;34m]\u001b[0m\u001b[0;34m,\u001b[0m\u001b[0mpts\u001b[0m\u001b[0;34m[\u001b[0m\u001b[0;34m:\u001b[0m\u001b[0;34m,\u001b[0m\u001b[0;36m1\u001b[0m\u001b[0;34m]\u001b[0m\u001b[0;34m)\u001b[0m\u001b[0;34m\u001b[0m\u001b[0;34m\u001b[0m\u001b[0m\n\u001b[0m",
      "\u001b[0;31mIndexError\u001b[0m: too many indices for array: array is 1-dimensional, but 2 were indexed"
     ]
    }
   ],
   "source": [
    "path = \"../input/floor_plan/train_annotations/train_0000.json\"\n",
    "with open(path) as f:\n",
    "    data = json.load(f)\n",
    "for label in data[\"labels\"]:\n",
    "    print(label)\n",
    "    for item in data[\"labels\"][label]:\n",
    "        pts = np.array(item)\n",
    "        #print(pts)\n",
    "        print(pts[:,0],pts[:,1])"
   ]
  },
  {
   "cell_type": "code",
   "execution_count": null,
   "id": "italian-matrix",
   "metadata": {},
   "outputs": [],
   "source": []
  }
 ],
 "metadata": {
  "kernelspec": {
   "display_name": "Python 3",
   "language": "python",
   "name": "python3"
  },
  "language_info": {
   "codemirror_mode": {
    "name": "ipython",
    "version": 3
   },
   "file_extension": ".py",
   "mimetype": "text/x-python",
   "name": "python",
   "nbconvert_exporter": "python",
   "pygments_lexer": "ipython3",
   "version": "3.7.2"
  },
  "toc": {
   "base_numbering": 1,
   "nav_menu": {},
   "number_sections": true,
   "sideBar": true,
   "skip_h1_title": false,
   "title_cell": "Table of Contents",
   "title_sidebar": "Contents",
   "toc_cell": false,
   "toc_position": {},
   "toc_section_display": true,
   "toc_window_display": false
  }
 },
 "nbformat": 4,
 "nbformat_minor": 5
}
